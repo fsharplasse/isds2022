{
 "cells": [
  {
   "cell_type": "code",
   "execution_count": 6,
   "id": "b9aa9457",
   "metadata": {},
   "outputs": [],
   "source": [
    "import requests\n",
    "import time\n",
    "import tqdm\n",
    "import pandas as pd\n",
    "import os\n",
    "import json\n",
    "from bs4 import BeautifulSoup"
   ]
  },
  {
   "cell_type": "code",
   "execution_count": 15,
   "id": "ace53195",
   "metadata": {},
   "outputs": [
    {
     "data": {
      "text/plain": [
       "<Response [403]>"
      ]
     },
     "execution_count": 15,
     "metadata": {},
     "output_type": "execute_result"
    }
   ],
   "source": [
    "url = 'https://www.bilbasen.dk/brugt/bil/vw/arteon/20-tdi-190-r-line-business-dsg-4d/5481234'\n",
    "response = requests.get(url, headers = {'Name' : 'User', 'Email' : '@ku.dk'})\n",
    "response\n",
    "#soup = BeautifulSoup(r.text, 'html.parser')\n",
    "#car_price = soup.find_all('span',class_='value')\n",
    "#print(car_price[0])"
   ]
  }
 ],
 "metadata": {
  "kernelspec": {
   "display_name": "Python 3",
   "language": "python",
   "name": "python3"
  },
  "language_info": {
   "codemirror_mode": {
    "name": "ipython",
    "version": 3
   },
   "file_extension": ".py",
   "mimetype": "text/x-python",
   "name": "python",
   "nbconvert_exporter": "python",
   "pygments_lexer": "ipython3",
   "version": "3.8.3"
  }
 },
 "nbformat": 4,
 "nbformat_minor": 5
}
