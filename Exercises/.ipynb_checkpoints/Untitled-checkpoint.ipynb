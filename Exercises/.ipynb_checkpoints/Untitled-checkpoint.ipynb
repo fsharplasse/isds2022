{
 "cells": [
  {
   "cell_type": "code",
   "execution_count": 6,
   "id": "b9aa9457",
   "metadata": {},
   "outputs": [],
   "source": [
    "import requests\n",
    "import time\n",
    "import tqdm\n",
    "import pandas as pd\n",
    "import os\n",
    "import json\n",
    "from bs4 import BeautifulSoup"
   ]
  },
  {
   "cell_type": "code",
   "execution_count": 15,
   "id": "ace53195",
   "metadata": {},
   "outputs": [
    {
     "data": {
      "text/plain": [
       "<Response [403]>"
      ]
     },
     "execution_count": 15,
     "metadata": {},
     "output_type": "execute_result"
    }
   ],
   "source": [
    "# YOUR CODE HERE\n",
    "#url = 'https://publicapi.bilinfo.net/listingapiqa/api/export[?dealerId][&sinceDays][&sinceInternalCars]'\n",
    "#endpoint_path = 'beers?brewed_after=04-2004&abv_gt>=5'\n",
    "#url = server_url + endpoint_path\n",
    "#response = requests.get(url, headers = {'Name' : 'Lasse Olsen', 'Email' : 'jht896@ku.dk'}) # submit query with `get` and save response as object\n",
    "#response.text\n",
    "\n",
    "\n",
    "url = 'https://www.bilbasen.dk/brugt/bil/vw/arteon/20-tdi-190-r-line-business-dsg-4d/5481234'\n",
    "response = requests.get(url, headers = {'Name' : 'User', 'Email' : '@ku.dk'})\n",
    "response\n",
    "#soup = BeautifulSoup(r.text, 'html.parser')\n",
    "#car_price = soup.find_all('span',class_='value')\n",
    "#print(car_price[0])"
   ]
  },
  {
   "cell_type": "code",
   "execution_count": 5,
   "id": "9c40277d",
   "metadata": {},
   "outputs": [],
   "source": [
    "response = requests.get('https://publicapi.bilinfo.net/listingapiqa/api/export[?dealerId][&sinceDays][&sinceInternalCars]')\n",
    "beers = response.json()"
   ]
  }
 ],
 "metadata": {
  "kernelspec": {
   "display_name": "Python 3",
   "language": "python",
   "name": "python3"
  },
  "language_info": {
   "codemirror_mode": {
    "name": "ipython",
    "version": 3
   },
   "file_extension": ".py",
   "mimetype": "text/x-python",
   "name": "python",
   "nbconvert_exporter": "python",
   "pygments_lexer": "ipython3",
   "version": "3.8.3"
  }
 },
 "nbformat": 4,
 "nbformat_minor": 5
}
